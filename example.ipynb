{
 "cells": [
  {
   "cell_type": "code",
   "execution_count": 5,
   "id": "0af97945-7a75-4aed-9a08-b1cb69738dfe",
   "metadata": {},
   "outputs": [
    {
     "name": "stdout",
     "output_type": "stream",
     "text": [
      "hi\n",
      "hello world\n",
      "[0, 1, 4, 9, 16, 25, 36, 49, 64, 81]\n"
     ]
    }
   ],
   "source": [
    "print(\"hi\")\n",
    "print(\"hello world\")\n",
    "\n",
    "def f(x):\n",
    "    ans=x**2\n",
    "    return ans\n",
    "\n",
    "print([f(x) for x in range(10)])"
   ]
  }
 ],
 "metadata": {
  "kernelspec": {
   "display_name": "Python 3 (ipykernel)",
   "language": "python",
   "name": "python3"
  }
 },
 "nbformat": 4,
 "nbformat_minor": 5
}
