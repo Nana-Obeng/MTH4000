{
 "cells": [
  {
   "cell_type": "code",
   "execution_count": null,
   "id": "0af97945-7a75-4aed-9a08-b1cb69738dfe",
   "metadata": {},
   "outputs": [],
   "source": [
    "print(\"hi\")\n",
    "print(\"hello world\")"
   ]
  },
  {
   "cell_type": "code",
   "execution_count": null,
   "id": "f9a90747",
   "metadata": {
    "vscode": {
     "languageId": "art"
    }
   },
   "outputs": [],
   "source": [
    "print(\"hi\")"
   ]
  }
 ],
 "metadata": {
  "kernelspec": {
   "display_name": "Python 3 (ipykernel)",
   "language": "python",
   "name": "python3"
  },
  "language_info": {
   "codemirror_mode": {
    "name": "ipython",
    "version": 3
   },
   "file_extension": ".py",
   "mimetype": "text/x-python",
   "name": "python",
   "nbconvert_exporter": "python",
   "pygments_lexer": "ipython3",
   "version": "3.11.9"
  }
 },
 "nbformat": 4,
 "nbformat_minor": 5
}
